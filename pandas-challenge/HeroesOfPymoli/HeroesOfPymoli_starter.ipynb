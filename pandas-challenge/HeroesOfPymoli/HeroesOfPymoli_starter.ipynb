{
 "cells": [
  {
   "cell_type": "markdown",
   "metadata": {},
   "source": [
    "### Note\n",
    "* Instructions have been included for each segment. You do not have to follow them exactly, but they are included to help you think through the steps."
   ]
  },
  {
   "cell_type": "code",
   "execution_count": 1,
   "metadata": {},
   "outputs": [],
   "source": [
    "# Dependencies and Setup\n",
    "import pandas as pd\n",
    "import numpy as np\n",
    "import os\n",
    "from pandas.io.formats.style import Styler\n",
    "\n",
    "# File to Load (Remember to Change These)\n",
    "file_to_load = os.path.join(\"Resources\",\"purchase_data.csv\")\n",
    "\n",
    "# Read Purchasing File and store into Pandas data frame\n",
    "purchase_data = pd.read_csv(file_to_load, header=0)"
   ]
  },
  {
   "cell_type": "markdown",
   "metadata": {},
   "source": [
    "## Player Count"
   ]
  },
  {
   "cell_type": "markdown",
   "metadata": {},
   "source": [
    "* Display the total number of players\n"
   ]
  },
  {
   "cell_type": "code",
   "execution_count": 2,
   "metadata": {},
   "outputs": [
    {
     "data": {
      "text/html": [
       "<div>\n",
       "<style scoped>\n",
       "    .dataframe tbody tr th:only-of-type {\n",
       "        vertical-align: middle;\n",
       "    }\n",
       "\n",
       "    .dataframe tbody tr th {\n",
       "        vertical-align: top;\n",
       "    }\n",
       "\n",
       "    .dataframe thead th {\n",
       "        text-align: right;\n",
       "    }\n",
       "</style>\n",
       "<table border=\"1\" class=\"dataframe\">\n",
       "  <thead>\n",
       "    <tr style=\"text-align: right;\">\n",
       "      <th></th>\n",
       "      <th>Total No of Players</th>\n",
       "    </tr>\n",
       "  </thead>\n",
       "  <tbody>\n",
       "    <tr>\n",
       "      <th>0</th>\n",
       "      <td>576</td>\n",
       "    </tr>\n",
       "  </tbody>\n",
       "</table>\n",
       "</div>"
      ],
      "text/plain": [
       "   Total No of Players\n",
       "0                  576"
      ]
     },
     "execution_count": 2,
     "metadata": {},
     "output_type": "execute_result"
    }
   ],
   "source": [
    "total_players = purchase_data[\"SN\"].value_counts().count()\n",
    "df_players = pd.DataFrame({\"Total No of Players\":[total_players]})\n",
    "df_players"
   ]
  },
  {
   "cell_type": "markdown",
   "metadata": {},
   "source": [
    "## Purchasing Analysis (Total)"
   ]
  },
  {
   "cell_type": "markdown",
   "metadata": {},
   "source": [
    "* Run basic calculations to obtain number of unique items, average price, etc.\n",
    "\n",
    "\n",
    "* Create a summary data frame to hold the results\n",
    "\n",
    "\n",
    "* Optional: give the displayed data cleaner formatting\n",
    "\n",
    "\n",
    "* Display the summary data frame\n"
   ]
  },
  {
   "cell_type": "code",
   "execution_count": 3,
   "metadata": {
    "scrolled": true
   },
   "outputs": [
    {
     "data": {
      "text/html": [
       "<style  type=\"text/css\" >\n",
       "</style><table id=\"T_fae63a12_1c65_11ea_bcab_c82a144a93d8\" ><thead>    <tr>        <th class=\"blank level0\" ></th>        <th class=\"col_heading level0 col0\" >No. of Unique Items</th>        <th class=\"col_heading level0 col1\" >Avg Price</th>        <th class=\"col_heading level0 col2\" >Number of Purchases</th>        <th class=\"col_heading level0 col3\" >Total Revenue</th>    </tr></thead><tbody>\n",
       "                <tr>\n",
       "                        <th id=\"T_fae63a12_1c65_11ea_bcab_c82a144a93d8level0_row0\" class=\"row_heading level0 row0\" >0</th>\n",
       "                        <td id=\"T_fae63a12_1c65_11ea_bcab_c82a144a93d8row0_col0\" class=\"data row0 col0\" >183</td>\n",
       "                        <td id=\"T_fae63a12_1c65_11ea_bcab_c82a144a93d8row0_col1\" class=\"data row0 col1\" >$                3.05</td>\n",
       "                        <td id=\"T_fae63a12_1c65_11ea_bcab_c82a144a93d8row0_col2\" class=\"data row0 col2\" >780</td>\n",
       "                        <td id=\"T_fae63a12_1c65_11ea_bcab_c82a144a93d8row0_col3\" class=\"data row0 col3\" >$            2,379.77</td>\n",
       "            </tr>\n",
       "    </tbody></table>"
      ],
      "text/plain": [
       "<pandas.io.formats.style.Styler at 0x111379a90>"
      ]
     },
     "execution_count": 3,
     "metadata": {},
     "output_type": "execute_result"
    }
   ],
   "source": [
    "total_pur = purchase_data[\"Item ID\"].count()\n",
    "uniq_items = purchase_data[\"Item ID\"].nunique()\n",
    "avg_price = round(purchase_data[\"Price\"].mean(),2)\n",
    "total_rev = purchase_data[\"Price\"].sum()\n",
    "best_seller = purchase_data[\"Item ID\"].value_counts().head()\n",
    "least_sold = purchase_data['Item ID'].value_counts(ascending=True).head(12)\n",
    "fan_list = purchase_data[\"SN\"].value_counts().head()\n",
    "loyal_fan = purchase_data[\"SN\"].mode()\n",
    "sold_per_user = uniq_items/len(purchase_data[\"SN\"].value_counts())\n",
    "\n",
    "df = pd.DataFrame(\n",
    "    {\"No. of Unique Items\":[uniq_items],\n",
    "     \"Avg Price\":[avg_price],\n",
    "     \"Number of Purchases\":[total_pur],\n",
    "     \"Total Revenue\":[total_rev]})\n",
    "df.style.format({\"Avg Price\":\"${:20,.2f}\",\"Total Revenue\":\"${:20,.2f}\"})"
   ]
  },
  {
   "cell_type": "markdown",
   "metadata": {},
   "source": [
    "## Gender Demographics"
   ]
  },
  {
   "cell_type": "markdown",
   "metadata": {},
   "source": [
    "* Percentage and Count of Male Players\n",
    "\n",
    "\n",
    "* Percentage and Count of Female Players\n",
    "\n",
    "\n",
    "* Percentage and Count of Other / Non-Disclosed\n",
    "\n",
    "\n"
   ]
  },
  {
   "cell_type": "code",
   "execution_count": 4,
   "metadata": {},
   "outputs": [
    {
     "data": {
      "text/html": [
       "<style  type=\"text/css\" >\n",
       "</style><table id=\"T_faeab600_1c65_11ea_bcab_c82a144a93d8\" ><thead>    <tr>        <th class=\"blank level0\" ></th>        <th class=\"col_heading level0 col0\" >Total Count</th>        <th class=\"col_heading level0 col1\" >Percentage of Players</th>    </tr></thead><tbody>\n",
       "                <tr>\n",
       "                        <th id=\"T_faeab600_1c65_11ea_bcab_c82a144a93d8level0_row0\" class=\"row_heading level0 row0\" >Male</th>\n",
       "                        <td id=\"T_faeab600_1c65_11ea_bcab_c82a144a93d8row0_col0\" class=\"data row0 col0\" >484</td>\n",
       "                        <td id=\"T_faeab600_1c65_11ea_bcab_c82a144a93d8row0_col1\" class=\"data row0 col1\" >84.03%</td>\n",
       "            </tr>\n",
       "            <tr>\n",
       "                        <th id=\"T_faeab600_1c65_11ea_bcab_c82a144a93d8level0_row1\" class=\"row_heading level0 row1\" >Female</th>\n",
       "                        <td id=\"T_faeab600_1c65_11ea_bcab_c82a144a93d8row1_col0\" class=\"data row1 col0\" >81</td>\n",
       "                        <td id=\"T_faeab600_1c65_11ea_bcab_c82a144a93d8row1_col1\" class=\"data row1 col1\" >14.06%</td>\n",
       "            </tr>\n",
       "            <tr>\n",
       "                        <th id=\"T_faeab600_1c65_11ea_bcab_c82a144a93d8level0_row2\" class=\"row_heading level0 row2\" >Other/Non-Disclosed</th>\n",
       "                        <td id=\"T_faeab600_1c65_11ea_bcab_c82a144a93d8row2_col0\" class=\"data row2 col0\" >11</td>\n",
       "                        <td id=\"T_faeab600_1c65_11ea_bcab_c82a144a93d8row2_col1\" class=\"data row2 col1\" >1.91%</td>\n",
       "            </tr>\n",
       "    </tbody></table>"
      ],
      "text/plain": [
       "<pandas.io.formats.style.Styler at 0x11292e810>"
      ]
     },
     "execution_count": 4,
     "metadata": {},
     "output_type": "execute_result"
    }
   ],
   "source": [
    "#total_players = purchase_data[\"SN\"].value_counts().count()\n",
    "# df_players = pd.DataFrame([total_players], index=[\"Total No of Players\"])\n",
    "dem_players = purchase_data.groupby(\"Gender\")[\"SN\"].nunique()\n",
    "sum_dem= dem_players.sum()\n",
    "\n",
    "male_players = dem_players[\"Male\"]\n",
    "perc_m = round(male_players/sum_dem*100,2)\n",
    "\n",
    "female_players = dem_players[\"Female\"]\n",
    "perc_f = round(female_players/sum_dem*100,2)\n",
    "\n",
    "ond_players = dem_players[\"Other / Non-Disclosed\"]\n",
    "perc_ond = round(ond_players/sum_dem*100,2)\n",
    "\n",
    "dem_df=pd.DataFrame({\n",
    "            \"Total Count\":[male_players,female_players,ond_players],\n",
    "            \"Percentage of Players\":[perc_m,perc_f,perc_ond]},index=[\"Male\",\"Female\",\"Other/Non-Disclosed\"])\n",
    "            \n",
    "dem_df = dem_df.style.format({\"Percentage of Players\": lambda x:str(x)+\"%\"})\n",
    "\n",
    "dem_df"
   ]
  },
  {
   "cell_type": "markdown",
   "metadata": {},
   "source": [
    "\n",
    "## Purchasing Analysis (Gender)"
   ]
  },
  {
   "cell_type": "markdown",
   "metadata": {},
   "source": [
    "* Run basic calculations to obtain purchase count, avg. purchase price, avg. purchase total per person etc. by gender\n",
    "\n",
    "\n",
    "\n",
    "\n",
    "* Create a summary data frame to hold the results\n",
    "\n",
    "\n",
    "* Optional: give the displayed data cleaner formatting\n",
    "\n",
    "\n",
    "* Display the summary data frame"
   ]
  },
  {
   "cell_type": "code",
   "execution_count": 5,
   "metadata": {},
   "outputs": [
    {
     "data": {
      "text/html": [
       "<style  type=\"text/css\" >\n",
       "</style><table id=\"T_faf1acf8_1c65_11ea_bcab_c82a144a93d8\" ><thead>    <tr>        <th class=\"blank level0\" ></th>        <th class=\"col_heading level0 col0\" >Purchase Count</th>        <th class=\"col_heading level0 col1\" >Average Purchase Price</th>        <th class=\"col_heading level0 col2\" >Total Purchase Value</th>        <th class=\"col_heading level0 col3\" >Avg Total Purchase Total per Person</th>    </tr>    <tr>        <th class=\"index_name level0\" >Gender</th>        <th class=\"blank\" ></th>        <th class=\"blank\" ></th>        <th class=\"blank\" ></th>        <th class=\"blank\" ></th>    </tr></thead><tbody>\n",
       "                <tr>\n",
       "                        <th id=\"T_faf1acf8_1c65_11ea_bcab_c82a144a93d8level0_row0\" class=\"row_heading level0 row0\" >Female</th>\n",
       "                        <td id=\"T_faf1acf8_1c65_11ea_bcab_c82a144a93d8row0_col0\" class=\"data row0 col0\" >113</td>\n",
       "                        <td id=\"T_faf1acf8_1c65_11ea_bcab_c82a144a93d8row0_col1\" class=\"data row0 col1\" >$                3.20</td>\n",
       "                        <td id=\"T_faf1acf8_1c65_11ea_bcab_c82a144a93d8row0_col2\" class=\"data row0 col2\" >$              361.94</td>\n",
       "                        <td id=\"T_faf1acf8_1c65_11ea_bcab_c82a144a93d8row0_col3\" class=\"data row0 col3\" >$                4.47</td>\n",
       "            </tr>\n",
       "            <tr>\n",
       "                        <th id=\"T_faf1acf8_1c65_11ea_bcab_c82a144a93d8level0_row1\" class=\"row_heading level0 row1\" >Male</th>\n",
       "                        <td id=\"T_faf1acf8_1c65_11ea_bcab_c82a144a93d8row1_col0\" class=\"data row1 col0\" >652</td>\n",
       "                        <td id=\"T_faf1acf8_1c65_11ea_bcab_c82a144a93d8row1_col1\" class=\"data row1 col1\" >$                3.02</td>\n",
       "                        <td id=\"T_faf1acf8_1c65_11ea_bcab_c82a144a93d8row1_col2\" class=\"data row1 col2\" >$            1,967.64</td>\n",
       "                        <td id=\"T_faf1acf8_1c65_11ea_bcab_c82a144a93d8row1_col3\" class=\"data row1 col3\" >$                4.07</td>\n",
       "            </tr>\n",
       "            <tr>\n",
       "                        <th id=\"T_faf1acf8_1c65_11ea_bcab_c82a144a93d8level0_row2\" class=\"row_heading level0 row2\" >Other / Non-Disclosed</th>\n",
       "                        <td id=\"T_faf1acf8_1c65_11ea_bcab_c82a144a93d8row2_col0\" class=\"data row2 col0\" >15</td>\n",
       "                        <td id=\"T_faf1acf8_1c65_11ea_bcab_c82a144a93d8row2_col1\" class=\"data row2 col1\" >$                3.35</td>\n",
       "                        <td id=\"T_faf1acf8_1c65_11ea_bcab_c82a144a93d8row2_col2\" class=\"data row2 col2\" >$               50.19</td>\n",
       "                        <td id=\"T_faf1acf8_1c65_11ea_bcab_c82a144a93d8row2_col3\" class=\"data row2 col3\" >$                4.56</td>\n",
       "            </tr>\n",
       "    </tbody></table>"
      ],
      "text/plain": [
       "<pandas.io.formats.style.Styler at 0x112941d10>"
      ]
     },
     "execution_count": 5,
     "metadata": {},
     "output_type": "execute_result"
    }
   ],
   "source": [
    "#Purchase Count\n",
    "num_purchases = purchase_data.groupby(\"Gender\")[\"Purchase ID\"].nunique()\n",
    "\n",
    "#Avg Purchase Price by Gender\n",
    "avg_p = round(purchase_data.groupby(\"Gender\")[\"Price\"].mean(),2)\n",
    "\n",
    "#Total Purchase Value\n",
    "tpv = purchase_data.groupby(\"Gender\")[\"Price\"].sum()\n",
    "\n",
    "#Avg Purchase Total per Person \n",
    "gender_df = purchase_data.groupby([\"Gender\",\"SN\"]).Price.agg(['sum'])\n",
    "f_avg = gender_df.loc[\"Female\"].mean()\n",
    "f_avg = f_avg.loc['sum'].round(2)\n",
    "m_avg = gender_df.loc[\"Male\"].mean()\n",
    "m_avg = m_avg.loc['sum'].round(2)\n",
    "o_avg = gender_df.loc[\"Other / Non-Disclosed\"].mean()\n",
    "o_avg = o_avg.loc['sum'].round(2)\n",
    "\n",
    "#Summary\n",
    "g_df = pd.DataFrame(\n",
    "    {\"Purchase Count\":num_purchases, \"Average Purchase Price\":avg_p, \"Total Purchase Value\":tpv,\n",
    "     \"Avg Total Purchase Total per Person\":[f_avg,m_avg,o_avg]})\n",
    "\n",
    "g_df.style.format({\"Average Purchase Price\":\"${:20,.2f}\",\n",
    "                   \"Total Purchase Value\":\"${:20,.2f}\",\n",
    "                   \"Avg Total Purchase Total per Person\":\"${:20,.2f}\"})"
   ]
  },
  {
   "cell_type": "markdown",
   "metadata": {},
   "source": [
    "## Age Demographics"
   ]
  },
  {
   "cell_type": "markdown",
   "metadata": {},
   "source": [
    "* Establish bins for ages\n",
    "\n",
    "\n",
    "* Categorize the existing players using the age bins. Hint: use pd.cut()\n",
    "\n",
    "\n",
    "* Calculate the numbers and percentages by age group\n",
    "\n",
    "\n",
    "* Create a summary data frame to hold the results\n",
    "\n",
    "\n",
    "* Optional: round the percentage column to two decimal points\n",
    "\n",
    "\n",
    "* Display Age Demographics Table\n"
   ]
  },
  {
   "cell_type": "code",
   "execution_count": 6,
   "metadata": {},
   "outputs": [
    {
     "data": {
      "text/html": [
       "<style  type=\"text/css\" >\n",
       "</style><table id=\"T_faf90cbe_1c65_11ea_bcab_c82a144a93d8\" ><thead>    <tr>        <th class=\"blank level0\" ></th>        <th class=\"col_heading level0 col0\" >Total Count</th>        <th class=\"col_heading level0 col1\" >Percentage of Players</th>    </tr>    <tr>        <th class=\"index_name level0\" > </th>        <th class=\"blank\" ></th>        <th class=\"blank\" ></th>    </tr></thead><tbody>\n",
       "                <tr>\n",
       "                        <th id=\"T_faf90cbe_1c65_11ea_bcab_c82a144a93d8level0_row0\" class=\"row_heading level0 row0\" ><10</th>\n",
       "                        <td id=\"T_faf90cbe_1c65_11ea_bcab_c82a144a93d8row0_col0\" class=\"data row0 col0\" >17</td>\n",
       "                        <td id=\"T_faf90cbe_1c65_11ea_bcab_c82a144a93d8row0_col1\" class=\"data row0 col1\" >2.95%</td>\n",
       "            </tr>\n",
       "            <tr>\n",
       "                        <th id=\"T_faf90cbe_1c65_11ea_bcab_c82a144a93d8level0_row1\" class=\"row_heading level0 row1\" >10-14</th>\n",
       "                        <td id=\"T_faf90cbe_1c65_11ea_bcab_c82a144a93d8row1_col0\" class=\"data row1 col0\" >22</td>\n",
       "                        <td id=\"T_faf90cbe_1c65_11ea_bcab_c82a144a93d8row1_col1\" class=\"data row1 col1\" >3.82%</td>\n",
       "            </tr>\n",
       "            <tr>\n",
       "                        <th id=\"T_faf90cbe_1c65_11ea_bcab_c82a144a93d8level0_row2\" class=\"row_heading level0 row2\" >15-19</th>\n",
       "                        <td id=\"T_faf90cbe_1c65_11ea_bcab_c82a144a93d8row2_col0\" class=\"data row2 col0\" >107</td>\n",
       "                        <td id=\"T_faf90cbe_1c65_11ea_bcab_c82a144a93d8row2_col1\" class=\"data row2 col1\" >18.58%</td>\n",
       "            </tr>\n",
       "            <tr>\n",
       "                        <th id=\"T_faf90cbe_1c65_11ea_bcab_c82a144a93d8level0_row3\" class=\"row_heading level0 row3\" >20-24</th>\n",
       "                        <td id=\"T_faf90cbe_1c65_11ea_bcab_c82a144a93d8row3_col0\" class=\"data row3 col0\" >258</td>\n",
       "                        <td id=\"T_faf90cbe_1c65_11ea_bcab_c82a144a93d8row3_col1\" class=\"data row3 col1\" >44.79%</td>\n",
       "            </tr>\n",
       "            <tr>\n",
       "                        <th id=\"T_faf90cbe_1c65_11ea_bcab_c82a144a93d8level0_row4\" class=\"row_heading level0 row4\" >25-29</th>\n",
       "                        <td id=\"T_faf90cbe_1c65_11ea_bcab_c82a144a93d8row4_col0\" class=\"data row4 col0\" >77</td>\n",
       "                        <td id=\"T_faf90cbe_1c65_11ea_bcab_c82a144a93d8row4_col1\" class=\"data row4 col1\" >13.37%</td>\n",
       "            </tr>\n",
       "            <tr>\n",
       "                        <th id=\"T_faf90cbe_1c65_11ea_bcab_c82a144a93d8level0_row5\" class=\"row_heading level0 row5\" >30-34</th>\n",
       "                        <td id=\"T_faf90cbe_1c65_11ea_bcab_c82a144a93d8row5_col0\" class=\"data row5 col0\" >52</td>\n",
       "                        <td id=\"T_faf90cbe_1c65_11ea_bcab_c82a144a93d8row5_col1\" class=\"data row5 col1\" >9.03%</td>\n",
       "            </tr>\n",
       "            <tr>\n",
       "                        <th id=\"T_faf90cbe_1c65_11ea_bcab_c82a144a93d8level0_row6\" class=\"row_heading level0 row6\" >35-39</th>\n",
       "                        <td id=\"T_faf90cbe_1c65_11ea_bcab_c82a144a93d8row6_col0\" class=\"data row6 col0\" >31</td>\n",
       "                        <td id=\"T_faf90cbe_1c65_11ea_bcab_c82a144a93d8row6_col1\" class=\"data row6 col1\" >5.38%</td>\n",
       "            </tr>\n",
       "            <tr>\n",
       "                        <th id=\"T_faf90cbe_1c65_11ea_bcab_c82a144a93d8level0_row7\" class=\"row_heading level0 row7\" >40+</th>\n",
       "                        <td id=\"T_faf90cbe_1c65_11ea_bcab_c82a144a93d8row7_col0\" class=\"data row7 col0\" >12</td>\n",
       "                        <td id=\"T_faf90cbe_1c65_11ea_bcab_c82a144a93d8row7_col1\" class=\"data row7 col1\" >2.08%</td>\n",
       "            </tr>\n",
       "    </tbody></table>"
      ],
      "text/plain": [
       "<pandas.io.formats.style.Styler at 0x11293ced0>"
      ]
     },
     "execution_count": 6,
     "metadata": {},
     "output_type": "execute_result"
    }
   ],
   "source": [
    "bins = [0, 9, 14, 19, 24,29,34,39,100]\n",
    "bin_names = ['<10', '10-14', '15-19', '20-24','25-29','30-34','35-39','40+']\n",
    "\n",
    "pd.cut(purchase_data[\"Age\"], bins, labels=bin_names)\n",
    "# Add column \" \" for bin categories\n",
    "purchase_data[\" \"] = pd.cut(purchase_data[\"Age\"], bins, labels=bin_names)\n",
    "\n",
    "#Group duplicate SNs and bins\n",
    "group_SN_age = purchase_data.groupby([\"SN\",\" \"])\n",
    "#Return the number of rows if Series\n",
    "group_SN_age.size()\n",
    "\n",
    "age_summary = pd.DataFrame(group_SN_age.size().groupby([\" \"]).count())\n",
    "age_summary.columns=[\"Total Count\"]\n",
    "age_summary[\"Percentage of Players\"] =round((age_summary[\"Total Count\"]/age_summary[\"Total Count\"].sum())*100,2)\n",
    "age_summary.style.format({\"Percentage of Players\": lambda x:str(x)+\"%\"})"
   ]
  },
  {
   "cell_type": "markdown",
   "metadata": {},
   "source": [
    "## Purchasing Analysis (Age)"
   ]
  },
  {
   "cell_type": "markdown",
   "metadata": {},
   "source": [
    "* Bin the purchase_data data frame by age\n",
    "\n",
    "\n",
    "* Run basic calculations to obtain purchase count, avg. purchase price, avg. purchase total per person etc. in the table below\n",
    "\n",
    "\n",
    "* Create a summary data frame to hold the results\n",
    "\n",
    "\n",
    "* Optional: give the displayed data cleaner formatting\n",
    "\n",
    "\n",
    "* Display the summary data frame"
   ]
  },
  {
   "cell_type": "code",
   "execution_count": 7,
   "metadata": {},
   "outputs": [
    {
     "data": {
      "text/html": [
       "<style  type=\"text/css\" >\n",
       "</style><table id=\"T_fb03294c_1c65_11ea_bcab_c82a144a93d8\" ><thead>    <tr>        <th class=\"blank level0\" ></th>        <th class=\"col_heading level0 col0\" >Purchase Count</th>        <th class=\"col_heading level0 col1\" >Average Purchase Price</th>        <th class=\"col_heading level0 col2\" >Total Purchase Value</th>        <th class=\"col_heading level0 col3\" >Avg Total Purchase per Person</th>    </tr>    <tr>        <th class=\"index_name level0\" >Age Ranges</th>        <th class=\"blank\" ></th>        <th class=\"blank\" ></th>        <th class=\"blank\" ></th>        <th class=\"blank\" ></th>    </tr></thead><tbody>\n",
       "                <tr>\n",
       "                        <th id=\"T_fb03294c_1c65_11ea_bcab_c82a144a93d8level0_row0\" class=\"row_heading level0 row0\" ><10</th>\n",
       "                        <td id=\"T_fb03294c_1c65_11ea_bcab_c82a144a93d8row0_col0\" class=\"data row0 col0\" >23</td>\n",
       "                        <td id=\"T_fb03294c_1c65_11ea_bcab_c82a144a93d8row0_col1\" class=\"data row0 col1\" >$                3.35</td>\n",
       "                        <td id=\"T_fb03294c_1c65_11ea_bcab_c82a144a93d8row0_col2\" class=\"data row0 col2\" >$               77.13</td>\n",
       "                        <td id=\"T_fb03294c_1c65_11ea_bcab_c82a144a93d8row0_col3\" class=\"data row0 col3\" >$                4.54</td>\n",
       "            </tr>\n",
       "            <tr>\n",
       "                        <th id=\"T_fb03294c_1c65_11ea_bcab_c82a144a93d8level0_row1\" class=\"row_heading level0 row1\" >10-14</th>\n",
       "                        <td id=\"T_fb03294c_1c65_11ea_bcab_c82a144a93d8row1_col0\" class=\"data row1 col0\" >28</td>\n",
       "                        <td id=\"T_fb03294c_1c65_11ea_bcab_c82a144a93d8row1_col1\" class=\"data row1 col1\" >$                2.96</td>\n",
       "                        <td id=\"T_fb03294c_1c65_11ea_bcab_c82a144a93d8row1_col2\" class=\"data row1 col2\" >$               82.78</td>\n",
       "                        <td id=\"T_fb03294c_1c65_11ea_bcab_c82a144a93d8row1_col3\" class=\"data row1 col3\" >$                3.76</td>\n",
       "            </tr>\n",
       "            <tr>\n",
       "                        <th id=\"T_fb03294c_1c65_11ea_bcab_c82a144a93d8level0_row2\" class=\"row_heading level0 row2\" >15-19</th>\n",
       "                        <td id=\"T_fb03294c_1c65_11ea_bcab_c82a144a93d8row2_col0\" class=\"data row2 col0\" >136</td>\n",
       "                        <td id=\"T_fb03294c_1c65_11ea_bcab_c82a144a93d8row2_col1\" class=\"data row2 col1\" >$                3.04</td>\n",
       "                        <td id=\"T_fb03294c_1c65_11ea_bcab_c82a144a93d8row2_col2\" class=\"data row2 col2\" >$              412.89</td>\n",
       "                        <td id=\"T_fb03294c_1c65_11ea_bcab_c82a144a93d8row2_col3\" class=\"data row2 col3\" >$                3.86</td>\n",
       "            </tr>\n",
       "            <tr>\n",
       "                        <th id=\"T_fb03294c_1c65_11ea_bcab_c82a144a93d8level0_row3\" class=\"row_heading level0 row3\" >20-24</th>\n",
       "                        <td id=\"T_fb03294c_1c65_11ea_bcab_c82a144a93d8row3_col0\" class=\"data row3 col0\" >365</td>\n",
       "                        <td id=\"T_fb03294c_1c65_11ea_bcab_c82a144a93d8row3_col1\" class=\"data row3 col1\" >$                3.05</td>\n",
       "                        <td id=\"T_fb03294c_1c65_11ea_bcab_c82a144a93d8row3_col2\" class=\"data row3 col2\" >$            1,114.06</td>\n",
       "                        <td id=\"T_fb03294c_1c65_11ea_bcab_c82a144a93d8row3_col3\" class=\"data row3 col3\" >$                4.32</td>\n",
       "            </tr>\n",
       "            <tr>\n",
       "                        <th id=\"T_fb03294c_1c65_11ea_bcab_c82a144a93d8level0_row4\" class=\"row_heading level0 row4\" >25-29</th>\n",
       "                        <td id=\"T_fb03294c_1c65_11ea_bcab_c82a144a93d8row4_col0\" class=\"data row4 col0\" >101</td>\n",
       "                        <td id=\"T_fb03294c_1c65_11ea_bcab_c82a144a93d8row4_col1\" class=\"data row4 col1\" >$                2.90</td>\n",
       "                        <td id=\"T_fb03294c_1c65_11ea_bcab_c82a144a93d8row4_col2\" class=\"data row4 col2\" >$              293.00</td>\n",
       "                        <td id=\"T_fb03294c_1c65_11ea_bcab_c82a144a93d8row4_col3\" class=\"data row4 col3\" >$                3.81</td>\n",
       "            </tr>\n",
       "            <tr>\n",
       "                        <th id=\"T_fb03294c_1c65_11ea_bcab_c82a144a93d8level0_row5\" class=\"row_heading level0 row5\" >30-34</th>\n",
       "                        <td id=\"T_fb03294c_1c65_11ea_bcab_c82a144a93d8row5_col0\" class=\"data row5 col0\" >73</td>\n",
       "                        <td id=\"T_fb03294c_1c65_11ea_bcab_c82a144a93d8row5_col1\" class=\"data row5 col1\" >$                2.93</td>\n",
       "                        <td id=\"T_fb03294c_1c65_11ea_bcab_c82a144a93d8row5_col2\" class=\"data row5 col2\" >$              214.00</td>\n",
       "                        <td id=\"T_fb03294c_1c65_11ea_bcab_c82a144a93d8row5_col3\" class=\"data row5 col3\" >$                4.12</td>\n",
       "            </tr>\n",
       "            <tr>\n",
       "                        <th id=\"T_fb03294c_1c65_11ea_bcab_c82a144a93d8level0_row6\" class=\"row_heading level0 row6\" >35-39</th>\n",
       "                        <td id=\"T_fb03294c_1c65_11ea_bcab_c82a144a93d8row6_col0\" class=\"data row6 col0\" >41</td>\n",
       "                        <td id=\"T_fb03294c_1c65_11ea_bcab_c82a144a93d8row6_col1\" class=\"data row6 col1\" >$                3.60</td>\n",
       "                        <td id=\"T_fb03294c_1c65_11ea_bcab_c82a144a93d8row6_col2\" class=\"data row6 col2\" >$              147.67</td>\n",
       "                        <td id=\"T_fb03294c_1c65_11ea_bcab_c82a144a93d8row6_col3\" class=\"data row6 col3\" >$                4.76</td>\n",
       "            </tr>\n",
       "            <tr>\n",
       "                        <th id=\"T_fb03294c_1c65_11ea_bcab_c82a144a93d8level0_row7\" class=\"row_heading level0 row7\" >40+</th>\n",
       "                        <td id=\"T_fb03294c_1c65_11ea_bcab_c82a144a93d8row7_col0\" class=\"data row7 col0\" >13</td>\n",
       "                        <td id=\"T_fb03294c_1c65_11ea_bcab_c82a144a93d8row7_col1\" class=\"data row7 col1\" >$                2.94</td>\n",
       "                        <td id=\"T_fb03294c_1c65_11ea_bcab_c82a144a93d8row7_col2\" class=\"data row7 col2\" >$               38.24</td>\n",
       "                        <td id=\"T_fb03294c_1c65_11ea_bcab_c82a144a93d8row7_col3\" class=\"data row7 col3\" >$                3.19</td>\n",
       "            </tr>\n",
       "    </tbody></table>"
      ],
      "text/plain": [
       "<pandas.io.formats.style.Styler at 0x1125bb750>"
      ]
     },
     "execution_count": 7,
     "metadata": {},
     "output_type": "execute_result"
    }
   ],
   "source": [
    "#Establish bins and labels\n",
    "bins = [0, 9, 14, 19, 24,29,34,39,100]\n",
    "bin_names = ['<10', '10-14', '15-19', '20-24','25-29','30-34','35-39','40+']\n",
    "\n",
    "#Create a new column \"Age Ranges\" and append to purchase_data.csv\n",
    "purchase_data[\"Age Ranges\"] = pd.cut(purchase_data[\"Age\"], bins, labels=bin_names)\n",
    "\n",
    "#Obtain Purchase Count by age bin\n",
    "pur_ct_by_age = purchase_data.groupby(['Age Ranges']).count()['Price'].rename(\"Avg Purchase Count\")\n",
    "\n",
    "#Obtain Average Purchase Price\n",
    "avg_pur_price_by_age = purchase_data.groupby(['Age Ranges']).mean()['Price'].rename(\"Avg Purchase Price\")\n",
    "\n",
    "#Obtain Total Purchase Value\n",
    "purchase_total_by_age = purchase_data.groupby(['Age Ranges']).sum()['Price'].rename(\"Total Purchase Value\")\n",
    "\n",
    "#Avg Total Purchase per Person\n",
    "avg_tot_pp= purchase_total_by_age/age_summary[\"Total Count\"]\n",
    "\n",
    "age_group_sum=pd.DataFrame(\n",
    "    {\"Purchase Count\":pur_ct_by_age,\n",
    "     \"Average Purchase Price\":avg_pur_price_by_age,\n",
    "     \"Total Purchase Value\":purchase_total_by_age,\n",
    "     \"Avg Total Purchase per Person\":avg_tot_pp})\n",
    "\n",
    "#Add currency formatting to applicable columns\n",
    "age_group_sum = (age_group_sum.style.format({\"Average Purchase Price\":\"${:20,.2f}\",\"Total Purchase Value\":\"${:20,.2f}\",\"Avg Total Purchase per Person\":\"${:20,.2f}\"}))\n",
    "age_group_sum"
   ]
  },
  {
   "cell_type": "markdown",
   "metadata": {},
   "source": [
    "## Top Spenders"
   ]
  },
  {
   "cell_type": "markdown",
   "metadata": {},
   "source": [
    "* Run basic calculations to obtain the results in the table below\n",
    "\n",
    "\n",
    "* Create a summary data frame to hold the results\n",
    "\n",
    "\n",
    "* Sort the total purchase value column in descending order\n",
    "\n",
    "\n",
    "* Optional: give the displayed data cleaner formatting\n",
    "\n",
    "\n",
    "* Display a preview of the summary data frame\n",
    "\n"
   ]
  },
  {
   "cell_type": "code",
   "execution_count": 8,
   "metadata": {},
   "outputs": [
    {
     "data": {
      "text/html": [
       "<style  type=\"text/css\" >\n",
       "</style><table id=\"T_fb0be1ae_1c65_11ea_bcab_c82a144a93d8\" ><thead>    <tr>        <th class=\"blank level0\" ></th>        <th class=\"col_heading level0 col0\" >Purchase Count</th>        <th class=\"col_heading level0 col1\" >Average Purchase Price</th>        <th class=\"col_heading level0 col2\" >Total Purchase Value</th>    </tr>    <tr>        <th class=\"index_name level0\" >SN</th>        <th class=\"blank\" ></th>        <th class=\"blank\" ></th>        <th class=\"blank\" ></th>    </tr></thead><tbody>\n",
       "                <tr>\n",
       "                        <th id=\"T_fb0be1ae_1c65_11ea_bcab_c82a144a93d8level0_row0\" class=\"row_heading level0 row0\" >Lisosia93</th>\n",
       "                        <td id=\"T_fb0be1ae_1c65_11ea_bcab_c82a144a93d8row0_col0\" class=\"data row0 col0\" >5</td>\n",
       "                        <td id=\"T_fb0be1ae_1c65_11ea_bcab_c82a144a93d8row0_col1\" class=\"data row0 col1\" >$                3.79</td>\n",
       "                        <td id=\"T_fb0be1ae_1c65_11ea_bcab_c82a144a93d8row0_col2\" class=\"data row0 col2\" >$               18.96</td>\n",
       "            </tr>\n",
       "            <tr>\n",
       "                        <th id=\"T_fb0be1ae_1c65_11ea_bcab_c82a144a93d8level0_row1\" class=\"row_heading level0 row1\" >Idastidru52</th>\n",
       "                        <td id=\"T_fb0be1ae_1c65_11ea_bcab_c82a144a93d8row1_col0\" class=\"data row1 col0\" >4</td>\n",
       "                        <td id=\"T_fb0be1ae_1c65_11ea_bcab_c82a144a93d8row1_col1\" class=\"data row1 col1\" >$                3.86</td>\n",
       "                        <td id=\"T_fb0be1ae_1c65_11ea_bcab_c82a144a93d8row1_col2\" class=\"data row1 col2\" >$               15.45</td>\n",
       "            </tr>\n",
       "            <tr>\n",
       "                        <th id=\"T_fb0be1ae_1c65_11ea_bcab_c82a144a93d8level0_row2\" class=\"row_heading level0 row2\" >Chamjask73</th>\n",
       "                        <td id=\"T_fb0be1ae_1c65_11ea_bcab_c82a144a93d8row2_col0\" class=\"data row2 col0\" >3</td>\n",
       "                        <td id=\"T_fb0be1ae_1c65_11ea_bcab_c82a144a93d8row2_col1\" class=\"data row2 col1\" >$                4.61</td>\n",
       "                        <td id=\"T_fb0be1ae_1c65_11ea_bcab_c82a144a93d8row2_col2\" class=\"data row2 col2\" >$               13.83</td>\n",
       "            </tr>\n",
       "            <tr>\n",
       "                        <th id=\"T_fb0be1ae_1c65_11ea_bcab_c82a144a93d8level0_row3\" class=\"row_heading level0 row3\" >Iral74</th>\n",
       "                        <td id=\"T_fb0be1ae_1c65_11ea_bcab_c82a144a93d8row3_col0\" class=\"data row3 col0\" >4</td>\n",
       "                        <td id=\"T_fb0be1ae_1c65_11ea_bcab_c82a144a93d8row3_col1\" class=\"data row3 col1\" >$                3.40</td>\n",
       "                        <td id=\"T_fb0be1ae_1c65_11ea_bcab_c82a144a93d8row3_col2\" class=\"data row3 col2\" >$               13.62</td>\n",
       "            </tr>\n",
       "            <tr>\n",
       "                        <th id=\"T_fb0be1ae_1c65_11ea_bcab_c82a144a93d8level0_row4\" class=\"row_heading level0 row4\" >Iskadarya95</th>\n",
       "                        <td id=\"T_fb0be1ae_1c65_11ea_bcab_c82a144a93d8row4_col0\" class=\"data row4 col0\" >3</td>\n",
       "                        <td id=\"T_fb0be1ae_1c65_11ea_bcab_c82a144a93d8row4_col1\" class=\"data row4 col1\" >$                4.37</td>\n",
       "                        <td id=\"T_fb0be1ae_1c65_11ea_bcab_c82a144a93d8row4_col2\" class=\"data row4 col2\" >$               13.10</td>\n",
       "            </tr>\n",
       "    </tbody></table>"
      ],
      "text/plain": [
       "<pandas.io.formats.style.Styler at 0x1113799d0>"
      ]
     },
     "execution_count": 8,
     "metadata": {},
     "output_type": "execute_result"
    }
   ],
   "source": [
    "fan_list = purchase_data[\"SN\"].value_counts().head(5)\n",
    "top_spenders = pd.DataFrame(fan_list)\n",
    "\n",
    "#Obtain Purchase Count\n",
    "purchase_count = purchase_data.groupby([\"SN\"]).count()[\"Price\"].rename(\"Purchase Count\")\n",
    "purchase_count\n",
    "\n",
    "# Avg Purchase Price\n",
    "avg_pur_price = purchase_data.groupby([\"SN\"]).mean()[\"Price\"].rename(\"Average Purchase Price\")\n",
    "\n",
    "# Total Purchase Value\n",
    "tot_pur_price = purchase_data.groupby([\"SN\"]).sum()[\"Price\"].rename(\"Total Purchase Value\")\n",
    "\n",
    "spendydf = pd.DataFrame({\n",
    "    \"Purchase Count\":purchase_count,\n",
    "    \"Average Purchase Price\":avg_pur_price, \n",
    "    \"Total Purchase Value\":tot_pur_price})\n",
    "\n",
    "#Reset index to add SN as a column, sort Total Purchase Value, \n",
    "#Set SN back to index, apply currency formatting to Total Purchase Value (style does not have sort or set index!)\n",
    "spendydf = (spendydf.reset_index()\n",
    "            .sort_values(by=\"Total Purchase Value\",ascending=False)\n",
    "            .set_index('SN')\n",
    "            .head()\n",
    "            .style.format({\"Total Purchase Value\":\"${:20,.2f}\",\"Average Purchase Price\":\"${:20,.2f}\"}))\n",
    "spendydf"
   ]
  },
  {
   "cell_type": "markdown",
   "metadata": {},
   "source": [
    "## Most Popular Items"
   ]
  },
  {
   "cell_type": "markdown",
   "metadata": {},
   "source": [
    "* Retrieve the Item ID, Item Name, and Item Price columns\n",
    "\n",
    "\n",
    "* Group by Item ID and Item Name. Perform calculations to obtain purchase count, item price, and total purchase value\n",
    "\n",
    "\n",
    "* Create a summary data frame to hold the results\n",
    "\n",
    "\n",
    "* Sort the purchase count column in descending order\n",
    "\n",
    "\n",
    "* Optional: give the displayed data cleaner formatting\n",
    "\n",
    "\n",
    "* Display a preview of the summary data frame\n",
    "\n"
   ]
  },
  {
   "cell_type": "code",
   "execution_count": 9,
   "metadata": {},
   "outputs": [
    {
     "data": {
      "text/html": [
       "<style  type=\"text/css\" >\n",
       "</style><table id=\"T_fb209fd6_1c65_11ea_bcab_c82a144a93d8\" ><thead>    <tr>        <th class=\"blank\" ></th>        <th class=\"blank level0\" ></th>        <th class=\"col_heading level0 col0\" >Purchase Count</th>        <th class=\"col_heading level0 col1\" >Item Price</th>        <th class=\"col_heading level0 col2\" >Total Purchase Value</th>    </tr>    <tr>        <th class=\"index_name level0\" >Item ID</th>        <th class=\"index_name level1\" >Item Name</th>        <th class=\"blank\" ></th>        <th class=\"blank\" ></th>        <th class=\"blank\" ></th>    </tr></thead><tbody>\n",
       "                <tr>\n",
       "                        <th id=\"T_fb209fd6_1c65_11ea_bcab_c82a144a93d8level0_row0\" class=\"row_heading level0 row0\" >178</th>\n",
       "                        <th id=\"T_fb209fd6_1c65_11ea_bcab_c82a144a93d8level1_row0\" class=\"row_heading level1 row0\" >Oathbreaker, Last Hope of the Breaking Storm</th>\n",
       "                        <td id=\"T_fb209fd6_1c65_11ea_bcab_c82a144a93d8row0_col0\" class=\"data row0 col0\" >12</td>\n",
       "                        <td id=\"T_fb209fd6_1c65_11ea_bcab_c82a144a93d8row0_col1\" class=\"data row0 col1\" >$                4.23</td>\n",
       "                        <td id=\"T_fb209fd6_1c65_11ea_bcab_c82a144a93d8row0_col2\" class=\"data row0 col2\" >$               50.76</td>\n",
       "            </tr>\n",
       "            <tr>\n",
       "                        <th id=\"T_fb209fd6_1c65_11ea_bcab_c82a144a93d8level0_row1\" class=\"row_heading level0 row1\" >145</th>\n",
       "                        <th id=\"T_fb209fd6_1c65_11ea_bcab_c82a144a93d8level1_row1\" class=\"row_heading level1 row1\" >Fiery Glass Crusader</th>\n",
       "                        <td id=\"T_fb209fd6_1c65_11ea_bcab_c82a144a93d8row1_col0\" class=\"data row1 col0\" >9</td>\n",
       "                        <td id=\"T_fb209fd6_1c65_11ea_bcab_c82a144a93d8row1_col1\" class=\"data row1 col1\" >$                4.58</td>\n",
       "                        <td id=\"T_fb209fd6_1c65_11ea_bcab_c82a144a93d8row1_col2\" class=\"data row1 col2\" >$               41.22</td>\n",
       "            </tr>\n",
       "            <tr>\n",
       "                        <th id=\"T_fb209fd6_1c65_11ea_bcab_c82a144a93d8level0_row2\" class=\"row_heading level0 row2\" >108</th>\n",
       "                        <th id=\"T_fb209fd6_1c65_11ea_bcab_c82a144a93d8level1_row2\" class=\"row_heading level1 row2\" >Extraction, Quickblade Of Trembling Hands</th>\n",
       "                        <td id=\"T_fb209fd6_1c65_11ea_bcab_c82a144a93d8row2_col0\" class=\"data row2 col0\" >9</td>\n",
       "                        <td id=\"T_fb209fd6_1c65_11ea_bcab_c82a144a93d8row2_col1\" class=\"data row2 col1\" >$                3.53</td>\n",
       "                        <td id=\"T_fb209fd6_1c65_11ea_bcab_c82a144a93d8row2_col2\" class=\"data row2 col2\" >$               31.77</td>\n",
       "            </tr>\n",
       "            <tr>\n",
       "                        <th id=\"T_fb209fd6_1c65_11ea_bcab_c82a144a93d8level0_row3\" class=\"row_heading level0 row3\" >82</th>\n",
       "                        <th id=\"T_fb209fd6_1c65_11ea_bcab_c82a144a93d8level1_row3\" class=\"row_heading level1 row3\" >Nirvana</th>\n",
       "                        <td id=\"T_fb209fd6_1c65_11ea_bcab_c82a144a93d8row3_col0\" class=\"data row3 col0\" >9</td>\n",
       "                        <td id=\"T_fb209fd6_1c65_11ea_bcab_c82a144a93d8row3_col1\" class=\"data row3 col1\" >$                4.90</td>\n",
       "                        <td id=\"T_fb209fd6_1c65_11ea_bcab_c82a144a93d8row3_col2\" class=\"data row3 col2\" >$               44.10</td>\n",
       "            </tr>\n",
       "            <tr>\n",
       "                        <th id=\"T_fb209fd6_1c65_11ea_bcab_c82a144a93d8level0_row4\" class=\"row_heading level0 row4\" >19</th>\n",
       "                        <th id=\"T_fb209fd6_1c65_11ea_bcab_c82a144a93d8level1_row4\" class=\"row_heading level1 row4\" >Pursuit, Cudgel of Necromancy</th>\n",
       "                        <td id=\"T_fb209fd6_1c65_11ea_bcab_c82a144a93d8row4_col0\" class=\"data row4 col0\" >8</td>\n",
       "                        <td id=\"T_fb209fd6_1c65_11ea_bcab_c82a144a93d8row4_col1\" class=\"data row4 col1\" >$                1.02</td>\n",
       "                        <td id=\"T_fb209fd6_1c65_11ea_bcab_c82a144a93d8row4_col2\" class=\"data row4 col2\" >$                8.16</td>\n",
       "            </tr>\n",
       "    </tbody></table>"
      ],
      "text/plain": [
       "<pandas.io.formats.style.Styler at 0x112855f90>"
      ]
     },
     "execution_count": 9,
     "metadata": {},
     "output_type": "execute_result"
    }
   ],
   "source": [
    "# Filter the columns\n",
    "pop_items = purchase_data[['Item ID','Item Name','Price']]\n",
    "\n",
    "# Groupby Item ID and Item Name, then find the Purchase Count\n",
    "purchase_count = pop_items.groupby(['Item ID','Item Name']).count()[\"Price\"].rename(\"Purchase Count\")\n",
    "\n",
    "#Find Item Price\n",
    "item_price = pop_items.groupby(['Item ID','Item Name'])[\"Price\"].unique().str.get(0)\n",
    "\n",
    "#Find Total Purchase Value (TPV)\n",
    "tpv = pop_items.groupby(['Item ID','Item Name']).sum()[\"Price\"]\n",
    "\n",
    "pop_df = pd.DataFrame({\"Purchase Count\":purchase_count,\"Item Price\":item_price,\"Total Purchase Value\":tpv})\n",
    "\n",
    "# Reset index to add Item ID and Item Name as columns, sort Purchase Count, \n",
    "# Set Item ID and Item Name back to index, apply currency formatting to Total Purchase Value (style does not have sort or set index!)\n",
    "most_popular = (pop_df.reset_index()\n",
    "            .sort_values(by=\"Purchase Count\",ascending=False)\n",
    "            .set_index(['Item ID','Item Name'])\n",
    "            .head()\n",
    "            .style.format({\"Item Price\":\"${:20,.2f}\",\"Total Purchase Value\":\"${:20,.2f}\"}))\n",
    "most_popular"
   ]
  },
  {
   "cell_type": "markdown",
   "metadata": {},
   "source": [
    "## Most Profitable Items"
   ]
  },
  {
   "cell_type": "markdown",
   "metadata": {},
   "source": [
    "* Sort the above table by total purchase value in descending order\n",
    "\n",
    "\n",
    "* Optional: give the displayed data cleaner formatting\n",
    "\n",
    "\n",
    "* Display a preview of the data frame\n",
    "\n"
   ]
  },
  {
   "cell_type": "code",
   "execution_count": 10,
   "metadata": {
    "scrolled": true
   },
   "outputs": [
    {
     "data": {
      "text/html": [
       "<style  type=\"text/css\" >\n",
       "</style><table id=\"T_fb251a3e_1c65_11ea_bcab_c82a144a93d8\" ><thead>    <tr>        <th class=\"blank\" ></th>        <th class=\"blank level0\" ></th>        <th class=\"col_heading level0 col0\" >Purchase Count</th>        <th class=\"col_heading level0 col1\" >Item Price</th>        <th class=\"col_heading level0 col2\" >Total Purchase Value</th>    </tr>    <tr>        <th class=\"index_name level0\" >Item ID</th>        <th class=\"index_name level1\" >Item Name</th>        <th class=\"blank\" ></th>        <th class=\"blank\" ></th>        <th class=\"blank\" ></th>    </tr></thead><tbody>\n",
       "                <tr>\n",
       "                        <th id=\"T_fb251a3e_1c65_11ea_bcab_c82a144a93d8level0_row0\" class=\"row_heading level0 row0\" >178</th>\n",
       "                        <th id=\"T_fb251a3e_1c65_11ea_bcab_c82a144a93d8level1_row0\" class=\"row_heading level1 row0\" >Oathbreaker, Last Hope of the Breaking Storm</th>\n",
       "                        <td id=\"T_fb251a3e_1c65_11ea_bcab_c82a144a93d8row0_col0\" class=\"data row0 col0\" >12</td>\n",
       "                        <td id=\"T_fb251a3e_1c65_11ea_bcab_c82a144a93d8row0_col1\" class=\"data row0 col1\" >$                4.23</td>\n",
       "                        <td id=\"T_fb251a3e_1c65_11ea_bcab_c82a144a93d8row0_col2\" class=\"data row0 col2\" >$               50.76</td>\n",
       "            </tr>\n",
       "            <tr>\n",
       "                        <th id=\"T_fb251a3e_1c65_11ea_bcab_c82a144a93d8level0_row1\" class=\"row_heading level0 row1\" >82</th>\n",
       "                        <th id=\"T_fb251a3e_1c65_11ea_bcab_c82a144a93d8level1_row1\" class=\"row_heading level1 row1\" >Nirvana</th>\n",
       "                        <td id=\"T_fb251a3e_1c65_11ea_bcab_c82a144a93d8row1_col0\" class=\"data row1 col0\" >9</td>\n",
       "                        <td id=\"T_fb251a3e_1c65_11ea_bcab_c82a144a93d8row1_col1\" class=\"data row1 col1\" >$                4.90</td>\n",
       "                        <td id=\"T_fb251a3e_1c65_11ea_bcab_c82a144a93d8row1_col2\" class=\"data row1 col2\" >$               44.10</td>\n",
       "            </tr>\n",
       "            <tr>\n",
       "                        <th id=\"T_fb251a3e_1c65_11ea_bcab_c82a144a93d8level0_row2\" class=\"row_heading level0 row2\" >145</th>\n",
       "                        <th id=\"T_fb251a3e_1c65_11ea_bcab_c82a144a93d8level1_row2\" class=\"row_heading level1 row2\" >Fiery Glass Crusader</th>\n",
       "                        <td id=\"T_fb251a3e_1c65_11ea_bcab_c82a144a93d8row2_col0\" class=\"data row2 col0\" >9</td>\n",
       "                        <td id=\"T_fb251a3e_1c65_11ea_bcab_c82a144a93d8row2_col1\" class=\"data row2 col1\" >$                4.58</td>\n",
       "                        <td id=\"T_fb251a3e_1c65_11ea_bcab_c82a144a93d8row2_col2\" class=\"data row2 col2\" >$               41.22</td>\n",
       "            </tr>\n",
       "            <tr>\n",
       "                        <th id=\"T_fb251a3e_1c65_11ea_bcab_c82a144a93d8level0_row3\" class=\"row_heading level0 row3\" >92</th>\n",
       "                        <th id=\"T_fb251a3e_1c65_11ea_bcab_c82a144a93d8level1_row3\" class=\"row_heading level1 row3\" >Final Critic</th>\n",
       "                        <td id=\"T_fb251a3e_1c65_11ea_bcab_c82a144a93d8row3_col0\" class=\"data row3 col0\" >8</td>\n",
       "                        <td id=\"T_fb251a3e_1c65_11ea_bcab_c82a144a93d8row3_col1\" class=\"data row3 col1\" >$                4.88</td>\n",
       "                        <td id=\"T_fb251a3e_1c65_11ea_bcab_c82a144a93d8row3_col2\" class=\"data row3 col2\" >$               39.04</td>\n",
       "            </tr>\n",
       "            <tr>\n",
       "                        <th id=\"T_fb251a3e_1c65_11ea_bcab_c82a144a93d8level0_row4\" class=\"row_heading level0 row4\" >103</th>\n",
       "                        <th id=\"T_fb251a3e_1c65_11ea_bcab_c82a144a93d8level1_row4\" class=\"row_heading level1 row4\" >Singed Scalpel</th>\n",
       "                        <td id=\"T_fb251a3e_1c65_11ea_bcab_c82a144a93d8row4_col0\" class=\"data row4 col0\" >8</td>\n",
       "                        <td id=\"T_fb251a3e_1c65_11ea_bcab_c82a144a93d8row4_col1\" class=\"data row4 col1\" >$                4.35</td>\n",
       "                        <td id=\"T_fb251a3e_1c65_11ea_bcab_c82a144a93d8row4_col2\" class=\"data row4 col2\" >$               34.80</td>\n",
       "            </tr>\n",
       "    </tbody></table>"
      ],
      "text/plain": [
       "<pandas.io.formats.style.Styler at 0x11292e290>"
      ]
     },
     "execution_count": 10,
     "metadata": {},
     "output_type": "execute_result"
    }
   ],
   "source": [
    "#Sort by Total Purchase Value\n",
    "most_profitable = (pop_df.reset_index()\n",
    "                   .sort_values(by=\"Total Purchase Value\",ascending=False)\n",
    "                   .set_index(['Item ID','Item Name'])\n",
    "                   .head()\n",
    "                   .style.format({\"Item Price\":\"${:20,.2f}\",\"Total Purchase Value\":\"${:20,.2f}\"}))\n",
    "most_profitable"
   ]
  }
 ],
 "metadata": {
  "anaconda-cloud": {},
  "kernel_info": {
   "name": "python3"
  },
  "kernelspec": {
   "display_name": "pandas-challenge",
   "language": "python",
   "name": "pandas-challenge"
  },
  "language_info": {
   "codemirror_mode": {
    "name": "ipython",
    "version": 3
   },
   "file_extension": ".py",
   "mimetype": "text/x-python",
   "name": "python",
   "nbconvert_exporter": "python",
   "pygments_lexer": "ipython3",
   "version": "3.7.4"
  },
  "latex_envs": {
   "LaTeX_envs_menu_present": true,
   "autoclose": false,
   "autocomplete": true,
   "bibliofile": "biblio.bib",
   "cite_by": "apalike",
   "current_citInitial": 1,
   "eqLabelWithNumbers": true,
   "eqNumInitial": 1,
   "hotkeys": {
    "equation": "Ctrl-E",
    "itemize": "Ctrl-I"
   },
   "labels_anchors": false,
   "latex_user_defs": false,
   "report_style_numbering": false,
   "user_envs_cfg": false
  },
  "nteract": {
   "version": "0.2.0"
  }
 },
 "nbformat": 4,
 "nbformat_minor": 2
}
